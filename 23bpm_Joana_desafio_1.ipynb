{
 "cells": [
  {
   "cell_type": "markdown",
   "metadata": {},
   "source": [
    "# Desafio 1 - Joana Durvalo | RM 336769"
   ]
  },
  {
   "cell_type": "markdown",
   "metadata": {},
   "source": [
    "### Conjectura de Legendre\n",
    "\n",
    "A Conjectura de Legendre, enunciada por de Adrien-Marie Legendre, afirma que existe sempre um número primo entre $n^2 $ e $(n+1)^2$, para qualquer $n$ inteiro positivo\n",
    "\n",
    "Seu desafio será criar uma função que, dado um input (inteiro n) retorne todos os números primos entre $n^2$ e $(n+1)^2$. \n",
    "\n",
    "Exemplo:\n",
    "\n",
    "    > input: 4\n",
    "    \n",
    "    > output: [17,19,23]"
   ]
  },
  {
   "cell_type": "code",
   "execution_count": 1,
   "metadata": {},
   "outputs": [],
   "source": [
    "def isprime(n):\n",
    "    for i in range(2,n):\n",
    "        if n % i == 0:\n",
    "            return False\n",
    "    return True"
   ]
  },
  {
   "cell_type": "code",
   "execution_count": 2,
   "metadata": {},
   "outputs": [],
   "source": [
    "def LegendreConjecture(n):\n",
    "    list = []\n",
    "    for i in range(n**2,(n+1)**2):\n",
    "        if isprime(i): list.append(i)\n",
    "    return list"
   ]
  },
  {
   "cell_type": "code",
   "execution_count": 3,
   "metadata": {},
   "outputs": [
    {
     "data": {
      "text/plain": [
       "[17, 19, 23]"
      ]
     },
     "execution_count": 3,
     "metadata": {},
     "output_type": "execute_result"
    }
   ],
   "source": [
    "LegendreConjecture(4)"
   ]
  },
  {
   "cell_type": "markdown",
   "metadata": {},
   "source": [
    "## Classe de leitura de arquivo\n",
    "\n",
    "Crie uma classe que\n",
    "\n",
    "        > crie um método que tenta ler um arquivo de texto (.txt)\n",
    "        > crie um método usando regex para extrair datas do texto. Considere apenas os dois tipos: dd/mm/aaaa e d/m/aa\n",
    "        > crie um método que utilize Counter para contar a quantidade de cada caracter"
   ]
  },
  {
   "cell_type": "code",
   "execution_count": 4,
   "metadata": {},
   "outputs": [],
   "source": [
    "import re\n",
    "from collections import Counter\n",
    "\n",
    "class ExtractTextInformation():\n",
    "    def __init__(self,arquivo):\n",
    "        try:\n",
    "            self.arquivo = open(arquivo)\n",
    "        except:\n",
    "            print('Ops! Não foi possivel ler %s' % (arquivo))\n",
    "            \n",
    "    \n",
    "    # Método para ler arquivo de texto\n",
    "    def ler(self):\n",
    "        print(self.arquivo.read())\n",
    "    \n",
    "    # Método que usa regex para extrair data\n",
    "    def data(self):\n",
    "        if self.arquivo:\n",
    "            print(re.findall(\"\\d{1,2}/\\d{1,2}/\\d{2,4}\",self.arquivo.read()))\n",
    "   \n",
    "    # Método para contar caracter\n",
    "    def contar(self):\n",
    "        print(Counter(self.arquivo.read()))"
   ]
  },
  {
   "cell_type": "code",
   "execution_count": 5,
   "metadata": {
    "scrolled": true
   },
   "outputs": [
    {
     "name": "stdout",
     "output_type": "stream",
     "text": [
      "I am a feminist. And when I looked up the word in the dictionary that day, this is what it said: \"Feminist: a person who believes in the social, political and economic equality of the sexes.\"\n",
      "My great grandmother, from the stories I've heard, was a feminist. \n",
      "She ran away from the house of the man she did not want to marry and ended up marrying the man of her choice. \n",
      "She refused, she protested, she spoke up whenever she felt she was being deprived of access, of land, that sort of thing. \n"
     ]
    }
   ],
   "source": [
    "ExtractTextInformation(\"texto.txt\").ler()"
   ]
  },
  {
   "cell_type": "code",
   "execution_count": 7,
   "metadata": {},
   "outputs": [
    {
     "name": "stdout",
     "output_type": "stream",
     "text": [
      "['31/10/1974', '15/12/1970', '05/10/1991', '12/03/1997']\n"
     ]
    }
   ],
   "source": [
    "ExtractTextInformation(\"datas.txt\").data()"
   ]
  },
  {
   "cell_type": "code",
   "execution_count": 8,
   "metadata": {},
   "outputs": [
    {
     "name": "stdout",
     "output_type": "stream",
     "text": [
      "Counter({' ': 9, 'a': 8, 'n': 7, 'o': 5, 'r': 5, 'e': 5, 's': 5, 'i': 4, '\\n': 4, 'u': 3, 'M': 3, 'P': 3, 'v': 2, 'B': 2, 't': 2, '3': 2, '6': 2, 'J': 1, 'E': 1, 'C': 1, 'b': 1, 'D': 1, 'l': 1, 'A': 1, 'c': 1, 'd': 1, 'g': 1, 'm': 1, 'R': 1, '7': 1, '9': 1, 'y': 1, 'h': 1, 'Ã': 1, '©': 1, 'T': 1, 'O': 1})\n"
     ]
    }
   ],
   "source": [
    "ExtractTextInformation(\"aleatorio.txt\").contar()"
   ]
  },
  {
   "cell_type": "code",
   "execution_count": null,
   "metadata": {},
   "outputs": [],
   "source": []
  }
 ],
 "metadata": {
  "kernelspec": {
   "display_name": "Python 3",
   "language": "python",
   "name": "python3"
  },
  "language_info": {
   "codemirror_mode": {
    "name": "ipython",
    "version": 3
   },
   "file_extension": ".py",
   "mimetype": "text/x-python",
   "name": "python",
   "nbconvert_exporter": "python",
   "pygments_lexer": "ipython3",
   "version": "3.7.4"
  }
 },
 "nbformat": 4,
 "nbformat_minor": 4
}
