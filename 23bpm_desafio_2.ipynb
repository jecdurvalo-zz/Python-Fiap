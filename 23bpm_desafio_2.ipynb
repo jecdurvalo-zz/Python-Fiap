{
 "cells": [
  {
   "cell_type": "markdown",
   "metadata": {},
   "source": [
    "# Desafio 2"
   ]
  },
  {
   "cell_type": "code",
   "execution_count": null,
   "metadata": {},
   "outputs": [],
   "source": [
    "#### Aleks Goncasz: RM 338967\n",
    "#### Joana Durvalo: RM 336769\n",
    "#### Jonathan Murakami: RM 338845\n",
    "#### Priscila Diz: RM 338674"
   ]
  },
  {
   "cell_type": "markdown",
   "metadata": {},
   "source": [
    "### Obtendo informações importantes acerca do dataset\n",
    "\n",
    "Vamos utilizar o dataset breast_cancer_data.csv para fazer uma análise exploratória cujo objetivo é responder a alguns questionamentos que surgiram a respeito desse conjunto.\n",
    "\n",
    "Vamos começar lendo e entendendo nossos dados:"
   ]
  },
  {
   "cell_type": "code",
   "execution_count": 2,
   "metadata": {},
   "outputs": [],
   "source": [
    "import pandas as pd\n",
    "import numpy as np"
   ]
  },
  {
   "cell_type": "code",
   "execution_count": 3,
   "metadata": {},
   "outputs": [
    {
     "data": {
      "text/html": [
       "<div>\n",
       "<style scoped>\n",
       "    .dataframe tbody tr th:only-of-type {\n",
       "        vertical-align: middle;\n",
       "    }\n",
       "\n",
       "    .dataframe tbody tr th {\n",
       "        vertical-align: top;\n",
       "    }\n",
       "\n",
       "    .dataframe thead th {\n",
       "        text-align: right;\n",
       "    }\n",
       "</style>\n",
       "<table border=\"1\" class=\"dataframe\">\n",
       "  <thead>\n",
       "    <tr style=\"text-align: right;\">\n",
       "      <th></th>\n",
       "      <th>id</th>\n",
       "      <th>clump_thickness</th>\n",
       "      <th>cell_size_uniformity</th>\n",
       "      <th>cell_shape_uniformity</th>\n",
       "      <th>marginal_adhesion</th>\n",
       "      <th>single_ep_cell_size</th>\n",
       "      <th>bare_nuclei</th>\n",
       "      <th>bland_chromatin</th>\n",
       "      <th>normal_nucleoli</th>\n",
       "      <th>mitoses</th>\n",
       "      <th>cancer_class</th>\n",
       "      <th>doctor_name</th>\n",
       "    </tr>\n",
       "  </thead>\n",
       "  <tbody>\n",
       "    <tr>\n",
       "      <td>0</td>\n",
       "      <td>1000025</td>\n",
       "      <td>5.0</td>\n",
       "      <td>1.0</td>\n",
       "      <td>1</td>\n",
       "      <td>1</td>\n",
       "      <td>2</td>\n",
       "      <td>1</td>\n",
       "      <td>3.0</td>\n",
       "      <td>1.0</td>\n",
       "      <td>1</td>\n",
       "      <td>benign</td>\n",
       "      <td>Dr. Doe</td>\n",
       "    </tr>\n",
       "    <tr>\n",
       "      <td>1</td>\n",
       "      <td>1002945</td>\n",
       "      <td>5.0</td>\n",
       "      <td>4.0</td>\n",
       "      <td>4</td>\n",
       "      <td>5</td>\n",
       "      <td>7</td>\n",
       "      <td>10</td>\n",
       "      <td>3.0</td>\n",
       "      <td>2.0</td>\n",
       "      <td>1</td>\n",
       "      <td>benign</td>\n",
       "      <td>Dr. Smith</td>\n",
       "    </tr>\n",
       "    <tr>\n",
       "      <td>2</td>\n",
       "      <td>1015425</td>\n",
       "      <td>3.0</td>\n",
       "      <td>1.0</td>\n",
       "      <td>1</td>\n",
       "      <td>1</td>\n",
       "      <td>2</td>\n",
       "      <td>2</td>\n",
       "      <td>3.0</td>\n",
       "      <td>1.0</td>\n",
       "      <td>1</td>\n",
       "      <td>benign</td>\n",
       "      <td>Dr. Lee</td>\n",
       "    </tr>\n",
       "    <tr>\n",
       "      <td>3</td>\n",
       "      <td>1016277</td>\n",
       "      <td>6.0</td>\n",
       "      <td>8.0</td>\n",
       "      <td>8</td>\n",
       "      <td>1</td>\n",
       "      <td>3</td>\n",
       "      <td>4</td>\n",
       "      <td>3.0</td>\n",
       "      <td>7.0</td>\n",
       "      <td>1</td>\n",
       "      <td>benign</td>\n",
       "      <td>Dr. Smith</td>\n",
       "    </tr>\n",
       "    <tr>\n",
       "      <td>4</td>\n",
       "      <td>1017023</td>\n",
       "      <td>4.0</td>\n",
       "      <td>1.0</td>\n",
       "      <td>1</td>\n",
       "      <td>3</td>\n",
       "      <td>2</td>\n",
       "      <td>1</td>\n",
       "      <td>3.0</td>\n",
       "      <td>1.0</td>\n",
       "      <td>1</td>\n",
       "      <td>benign</td>\n",
       "      <td>Dr. Wong</td>\n",
       "    </tr>\n",
       "  </tbody>\n",
       "</table>\n",
       "</div>"
      ],
      "text/plain": [
       "        id  clump_thickness  cell_size_uniformity  cell_shape_uniformity  \\\n",
       "0  1000025              5.0                   1.0                      1   \n",
       "1  1002945              5.0                   4.0                      4   \n",
       "2  1015425              3.0                   1.0                      1   \n",
       "3  1016277              6.0                   8.0                      8   \n",
       "4  1017023              4.0                   1.0                      1   \n",
       "\n",
       "   marginal_adhesion  single_ep_cell_size bare_nuclei  bland_chromatin  \\\n",
       "0                  1                    2           1              3.0   \n",
       "1                  5                    7          10              3.0   \n",
       "2                  1                    2           2              3.0   \n",
       "3                  1                    3           4              3.0   \n",
       "4                  3                    2           1              3.0   \n",
       "\n",
       "   normal_nucleoli  mitoses cancer_class doctor_name  \n",
       "0              1.0        1       benign     Dr. Doe  \n",
       "1              2.0        1       benign   Dr. Smith  \n",
       "2              1.0        1       benign     Dr. Lee  \n",
       "3              7.0        1       benign   Dr. Smith  \n",
       "4              1.0        1       benign    Dr. Wong  "
      ]
     },
     "execution_count": 3,
     "metadata": {},
     "output_type": "execute_result"
    }
   ],
   "source": [
    "colunas = ['id','clump_thickness','cell_size_uniformity','cell_shape_uniformity','marginal_adhesion','single_ep_cell_size',\n",
    "          'bare_nuclei','bland_chromatin','normal_nucleoli','mitoses','cancer_class','doctor_name']\n",
    "\n",
    "data = pd.read_csv('breast_cancer_data.csv',names=colunas)\n",
    "data.head()"
   ]
  },
  {
   "cell_type": "code",
   "execution_count": 4,
   "metadata": {},
   "outputs": [
    {
     "name": "stdout",
     "output_type": "stream",
     "text": [
      "Formato: \n",
      " Qtde linhas:  699 \n",
      " Qtde colunas: 12 \n",
      "\n",
      "Tipos de dados:  \n",
      " id                         int64\n",
      "clump_thickness          float64\n",
      "cell_size_uniformity     float64\n",
      "cell_shape_uniformity      int64\n",
      "marginal_adhesion          int64\n",
      "single_ep_cell_size        int64\n",
      "bare_nuclei               object\n",
      "bland_chromatin          float64\n",
      "normal_nucleoli          float64\n",
      "mitoses                    int64\n",
      "cancer_class              object\n",
      "doctor_name               object\n",
      "dtype: object \n",
      "\n",
      "Principais estatísticas:  \n",
      "                  id  clump_thickness  cell_size_uniformity  \\\n",
      "count  6.990000e+02       698.000000            698.000000   \n",
      "mean   1.071704e+06         4.416905              3.137536   \n",
      "std    6.170957e+05         2.817673              3.052575   \n",
      "min    6.163400e+04         1.000000              1.000000   \n",
      "25%    8.706885e+05         2.000000              1.000000   \n",
      "50%    1.171710e+06         4.000000              1.000000   \n",
      "75%    1.238298e+06         6.000000              5.000000   \n",
      "max    1.345435e+07        10.000000             10.000000   \n",
      "\n",
      "       cell_shape_uniformity  marginal_adhesion  single_ep_cell_size  \\\n",
      "count             699.000000         699.000000           699.000000   \n",
      "mean                3.207439           2.793991             3.216023   \n",
      "std                 2.971913           2.843163             2.214300   \n",
      "min                 1.000000           1.000000             1.000000   \n",
      "25%                 1.000000           1.000000             2.000000   \n",
      "50%                 1.000000           1.000000             2.000000   \n",
      "75%                 5.000000           3.500000             4.000000   \n",
      "max                10.000000          10.000000            10.000000   \n",
      "\n",
      "       bland_chromatin  normal_nucleoli     mitoses  \n",
      "count       695.000000       698.000000  699.000000  \n",
      "mean          3.447482         2.868195    1.589413  \n",
      "std           2.441191         3.055647    1.715078  \n",
      "min           1.000000         1.000000    1.000000  \n",
      "25%           2.000000         1.000000    1.000000  \n",
      "50%           3.000000         1.000000    1.000000  \n",
      "75%           5.000000         4.000000    1.000000  \n",
      "max          10.000000        10.000000   10.000000   \n",
      "\n"
     ]
    }
   ],
   "source": [
    "# TODO: entendimento básico dos dados - preencha as lacunas no código a fim de obter o resultado desejado\n",
    "\n",
    "# quantas linhas e quantas colunas existem no dataset?\n",
    "contar_coluna = data.shape\n",
    "print('Formato:', '\\n', 'Qtde linhas: ', contar_coluna[0], '\\n','Qtde colunas:', contar_coluna[1], '\\n')\n",
    "\n",
    "#quais os tipos de dados de cada coluna?\n",
    "\n",
    "tipo_dados = data.dtypes\n",
    "\n",
    "print('Tipos de dados: ','\\n', tipo_dados,'\\n')\n",
    "\n",
    "#quais as principais estatísticas dos dados numéricos do dataset?\n",
    "\n",
    "estatisticas = data.describe()\n",
    "\n",
    "print('Principais estatísticas: ', '\\n', estatisticas, '\\n')"
   ]
  },
  {
   "cell_type": "code",
   "execution_count": 3,
   "metadata": {},
   "outputs": [
    {
     "name": "stdout",
     "output_type": "stream",
     "text": [
      "cancer_class  doctor_name\n",
      "benign        Dr. Doe        127\n",
      "              Dr. Lee        121\n",
      "              Dr. Wong       108\n",
      "              Dr. Smith      102\n",
      "malignant     Dr. Smith       74\n",
      "              Dr. Lee         60\n",
      "              Dr. Doe         58\n",
      "              Dr. Wong        49\n",
      "Name: id, dtype: int64\n"
     ]
    }
   ],
   "source": [
    "# TODO: obtendo informações sobre o dataset\n",
    "\n",
    "# retorne uma Serie que mostre qual a classificação (maligno e benigno) que cada médico deu para cada amostra: \n",
    "# Exemplo de retorno\n",
    "# class      doctor_name\n",
    "# benign   Dr. Doe        127\n",
    "#          Dr. Lee        121\n",
    "#          Dr. Smith      102\n",
    "#          Dr. Wong       108\n",
    "\n",
    "# Código: \n",
    "\n",
    "series = data.groupby([\"cancer_class\",\"doctor_name\"])[\"id\"].count().sort_values(ascending=False)\n",
    "print(series)"
   ]
  },
  {
   "cell_type": "code",
   "execution_count": 4,
   "metadata": {},
   "outputs": [
    {
     "name": "stdout",
     "output_type": "stream",
     "text": [
      "Existem 5 variáveis correlacionadas com clump_thickness: \n",
      "cell_shape_uniformity    0.654632\n",
      "cell_size_uniformity     0.644636\n",
      "bland_chromatin          0.558924\n",
      "normal_nucleoli          0.535773\n",
      "single_ep_cell_size      0.522108\n",
      "Name: clump_thickness, dtype: float64\n"
     ]
    }
   ],
   "source": [
    "# TODO: obtendo informações sobre o dataset\n",
    "\n",
    "# Use o método select_dtypes() para selecionar apenas colunas do tipo float64 e int64. Armazene na variável data_num\n",
    "data_num = data.select_dtypes(include=[\"float\",\"int64\"])\n",
    "\n",
    "# Encontre as n variáveis que possuem um valor absoluto de correlação maior que 0.5 com a variável clump_thickness, excluindo ela mesma \n",
    "# retorne os valores de forma descendente\n",
    "# sempre utilize a variável data_num para receber o resultado de suas operações\n",
    "\n",
    "corr_aux1 = data.corr()\n",
    "corr_aux2=corr_aux1['clump_thickness'].sort_values(ascending=False)\n",
    "data_num= corr_aux2[(corr_aux2 > 0.5) & (corr_aux2 != 1)]\n",
    "\n",
    "print(\"Existem {} variáveis correlacionadas com clump_thickness: \\n{}\".format(len(data_num), data_num))"
   ]
  },
  {
   "cell_type": "code",
   "execution_count": 5,
   "metadata": {},
   "outputs": [
    {
     "name": "stdout",
     "output_type": "stream",
     "text": [
      "Tamanho médio do tipo benigno:  1.3260393873085339 \n",
      "\n",
      "Tamanho médio do tipo maligno:  6.572614107883817 \n",
      "\n",
      "Número máximo de mitoses em tumores benignos:  3\n",
      "\n",
      " Número máximo de mitoses em tumores malignos:  10\n"
     ]
    }
   ],
   "source": [
    "# TODO: obtendo informações sobre o dataset\n",
    "\n",
    "# qual o tamanho médio das células para cada tipo de tumor?\n",
    "tipo_beligno = data.query(\"cancer_class == 'benign'\")\n",
    "tipo_maligno = data.query(\"cancer_class == 'malignant'\")\n",
    "celula_beligna = tipo_beligno['cell_size_uniformity'].mean()\n",
    "celula_maligna = tipo_maligno['cell_size_uniformity'].mean()\n",
    "\n",
    "print('Tamanho médio do tipo benigno: ',celula_beligna,'\\n')\n",
    "print('Tamanho médio do tipo maligno: ',celula_maligna,'\\n')\n",
    "\n",
    "# qual o número máximo de mitoses em tumores benignos encontrados pelo Dr. Wong?\n",
    "dr_beligno = data.query(\"doctor_name == 'Dr. Wong' & cancer_class == 'benign'\")\n",
    "total_mitoses_malignas = dr_beligno['mitoses'].max()\n",
    "\n",
    "print('Número máximo de mitoses em tumores benignos: ', total_mitoses_malignas)\n",
    "\n",
    "# e qual o número máximo de mitoses em tumores malignos encontrados pelo mesmo médico?\n",
    "dr_maligno = data.query(\"doctor_name == 'Dr. Wong' & cancer_class == 'malignant'\")\n",
    "total_mitoses_malignas = dr_maligno['mitoses'].max()\n",
    "\n",
    "print('\\n Número máximo de mitoses em tumores malignos: ',total_mitoses_malignas)"
   ]
  },
  {
   "cell_type": "code",
   "execution_count": 6,
   "metadata": {},
   "outputs": [
    {
     "name": "stdout",
     "output_type": "stream",
     "text": [
      "id\n",
      "1182404    6\n",
      "1276091    5\n",
      "1198641    3\n",
      "1238777    2\n",
      "385103     2\n",
      "          ..\n",
      "1212232    1\n",
      "1211594    1\n",
      "1211265    1\n",
      "1211202    1\n",
      "61634      1\n",
      "Name: id, Length: 645, dtype: int64\n",
      "id\n",
      "1105524    2\n",
      "385103     2\n",
      "1143978    2\n",
      "822829     2\n",
      "1240603    2\n",
      "          ..\n",
      "1212232    1\n",
      "1211594    1\n",
      "1211265    1\n",
      "1211202    1\n",
      "61634      1\n",
      "Name: id, Length: 642, dtype: int64\n"
     ]
    }
   ],
   "source": [
    "# TODO: filtrando os dados\n",
    "\n",
    "# Existem três pacientes (id) que aparecem mais que duas vezes no dataset. Retorne uma série ordenada de forma descendente que mostre o\n",
    "# id do paciente bem como a quantidade de vezes que ele aparece repetido no dataset\n",
    "\n",
    "paciente_repetido = data.groupby(['id'])['id'].count().sort_values(ascending=False)\n",
    "print(paciente_repetido)\n",
    "\n",
    "# Elimine esses três pacientes do dataframe de modo que este contenha apenas pacientes que apareceram no máximo duas vezes\n",
    "filtrar_pacientes = data.query(\"id != '1182404' & id != '1276091' & id != '1198641'\")\n",
    "\n",
    "filtro = filtrar_pacientes.groupby(['id'])['id'].count().sort_values(ascending=False)\n",
    "print(filtro)"
   ]
  },
  {
   "cell_type": "markdown",
   "metadata": {},
   "source": [
    "## Treinando visualização de dados\n",
    "\n",
    "Anteriormente, utilizamos o dataset Lemonades.csv para realizar análise exploratória de dados. Vamos refazer aqui o que já havíamos implementado e, em cima do resultado, vamos continuar nossa análise, mas dessa vez utilizando gráficos. "
   ]
  },
  {
   "cell_type": "code",
   "execution_count": 7,
   "metadata": {},
   "outputs": [],
   "source": [
    "# Não modifique nada abaixo\n",
    "import pandas as pd\n",
    "from datetime import datetime\n",
    "import matplotlib.pyplot as plt\n",
    "\n",
    "\n",
    "lemonades = pd.read_csv('Lemonades.csv', sep = ';')\n",
    "lemonades['Leaflets'].fillna((lemonades['Leaflets'].median()), inplace=True)\n",
    "lemonades['Date'] = pd.to_datetime(lemonades['Date'], format=\"%m/%d/%Y\")     \n",
    "tmp = lemonades['Date'].apply(lambda t: (t-datetime(1970,1,1)).total_seconds())\n",
    "tmp.interpolate(inplace=True)    \n",
    "lemonades['Date'] = pd.to_datetime(tmp, unit='s') \n",
    "lemonades['Date'] = lemonades['Date'].apply(lambda t: t.date())\n",
    "lemonades = lemonades.drop_duplicates()\n",
    "lemonades[\"Sales\"] = lemonades[\"Lemon\"] + lemonades[\"Orange\"]\n",
    "lemonades[\"Revenue\"] = lemonades[\"Sales\"] * lemonades[\"Price\"]"
   ]
  },
  {
   "cell_type": "markdown",
   "metadata": {},
   "source": [
    "### Orientações\n",
    "\n",
    "> Defina o tamanho do gráfico como 15 por 5. Para isso, faça: plt.figure(figsize = (15,5))\n",
    "\n",
    "> Adicione título do gráfico, rótulo do eixo x e rótulo do eixo y\n",
    "\n",
    "> Descreva sua interpretação do gráfico"
   ]
  },
  {
   "cell_type": "markdown",
   "metadata": {},
   "source": [
    "## Imprima um gráfico de linha que apresente o lucro (Revenue) ao longo do tempo"
   ]
  },
  {
   "cell_type": "code",
   "execution_count": 8,
   "metadata": {},
   "outputs": [
    {
     "data": {
      "text/plain": [
       "Text(0, 0.5, 'Lucro')"
      ]
     },
     "execution_count": 8,
     "metadata": {},
     "output_type": "execute_result"
    },
    {
     "data": {
      "image/png": "[encoded data removed]",
      "text/plain": [
       "<Figure size 1080x360 with 1 Axes>"
      ]
     },
     "metadata": {
      "needs_background": "light"
     },
     "output_type": "display_data"
    }
   ],
   "source": [
    "# Resposta\n",
    "fig, axes = plt.subplots(figsize = (15,5))\n",
    "revenue_graph = plt.plot(lemonades['Revenue'])\n",
    "plt.title('Lucro ao longo do tempo')\n",
    "plt.xlabel('Data')\n",
    "plt.ylabel('Lucro')"
   ]
  },
  {
   "cell_type": "markdown",
   "metadata": {},
   "source": [
    "#### Interpretação:\n",
    "Nesse dataset é possível verificar que o maior lucro foi no dia 25 com aproximadamente $120. Os perídos com menor volume são ente os dias 5 e 12."
   ]
  },
  {
   "cell_type": "markdown",
   "metadata": {},
   "source": [
    "## Crie um scatter-plot de leaflets (eixo x) por sales (eixo y)"
   ]
  },
  {
   "cell_type": "code",
   "execution_count": 9,
   "metadata": {},
   "outputs": [
    {
     "data": {
      "image/png": "[encoded data removed]",
      "text/plain": [
       "<Figure size 1080x360 with 1 Axes>"
      ]
     },
     "metadata": {
      "needs_background": "light"
     },
     "output_type": "display_data"
    }
   ],
   "source": [
    "# Resposta\n",
    "fig, axes = plt.subplots(figsize = (15,5))\n",
    "\n",
    "plt.scatter(lemonades['Leaflets'],lemonades['Sales'])\n",
    "plt.title('Gráfico Scatter de Leaflets x Sales')\n",
    "plt.xlabel('Leaflets')\n",
    "plt.ylabel('Sales')\n",
    "plt.show()"
   ]
  },
  {
   "cell_type": "markdown",
   "metadata": {},
   "source": [
    "#### Interpretação: \n",
    "No gráfico acima é possível verificar que quanto maior a quantidade de folhetos que são enviados/disparados, maior é a quantidade de vendas. Entende-se que essa é uma boa forma de divulgação e conversão de clientes."
   ]
  },
  {
   "cell_type": "markdown",
   "metadata": {},
   "source": [
    "### Crie um histograma de temperatura com 10 bins"
   ]
  },
  {
   "cell_type": "code",
   "execution_count": 10,
   "metadata": {},
   "outputs": [
    {
     "data": {
      "image/png": "[encoded data removed]",
      "text/plain": [
       "<Figure size 1080x360 with 1 Axes>"
      ]
     },
     "metadata": {
      "needs_background": "light"
     },
     "output_type": "display_data"
    }
   ],
   "source": [
    "# Resposta\n",
    "fig, axes = plt.subplots(figsize = (15,5))\n",
    "histoRevenue_graph = plt.hist(lemonades['Temperature'], bins = 10)\n",
    "plt.xlabel('Temperatura')\n",
    "plt.title('Histograma de temperatura');\n"
   ]
  },
  {
   "cell_type": "markdown",
   "metadata": {},
   "source": [
    "#### Interpretação: \n",
    "No histograma de temperatura é possível identificar que temos maior concentração de frutas entre 80-82 de temperatura.\n",
    "Nenhuma entre 78-80 o que gera um grande desvio na visualização."
   ]
  },
  {
   "cell_type": "markdown",
   "metadata": {},
   "source": [
    "###  Crie um gráfico de linha que mostre o lucro por tipo de fruta ao longo do tempo.\n",
    "\n",
    "Observação: adicione legenda nesse gráfico"
   ]
  },
  {
   "cell_type": "code",
   "execution_count": 11,
   "metadata": {},
   "outputs": [
    {
     "data": {
      "text/plain": [
       "Text(0, 0.5, 'Lucro')"
      ]
     },
     "execution_count": 11,
     "metadata": {},
     "output_type": "execute_result"
    },
    {
     "data": {
      "image/png": "[encoded data removed]",
      "text/plain": [
       "<Figure size 1080x360 with 1 Axes>"
      ]
     },
     "metadata": {
      "needs_background": "light"
     },
     "output_type": "display_data"
    }
   ],
   "source": [
    "# Resposta\n",
    "lemonades['Revenue.Lemon'] = lemonades['Lemon'] * lemonades['Price']\n",
    "lemonades['Revenue.Orange'] = lemonades['Orange'] * lemonades['Price']\n",
    "\n",
    "fig, axes = plt.subplots(figsize = (15,5))\n",
    "revenue_graph = plt.plot(lemonades['Revenue.Lemon'], label = \"lemon\")\n",
    "revenue_graph = plt.plot(lemonades['Revenue.Orange'], label = \"orange\")\n",
    "\n",
    "plt.legend(bbox_to_anchor=(1.05, 1), loc='upper left', borderaxespad=0.)\n",
    "plt.title('Lucro por fruta ao longo do tempo')\n",
    "plt.xlabel('Data')\n",
    "plt.ylabel('Lucro')"
   ]
  },
  {
   "cell_type": "markdown",
   "metadata": {},
   "source": [
    "#### Interpretação:\n",
    "O Lucro do Lemon é bem maior do que a Laranja e os dois possuem comportamentos semelhantes quanto ao período de pico de vendas (Dia 18 e 25)."
   ]
  },
  {
   "cell_type": "code",
   "execution_count": null,
   "metadata": {},
   "outputs": [],
   "source": []
  }
 ],
 "metadata": {
  "kernelspec": {
   "display_name": "Python 3",
   "language": "python",
   "name": "python3"
  },
  "language_info": {
   "codemirror_mode": {
    "name": "ipython",
    "version": 3
   },
   "file_extension": ".py",
   "mimetype": "text/x-python",
   "name": "python",
   "nbconvert_exporter": "python",
   "pygments_lexer": "ipython3",
   "version": "3.7.4"
  }
 },
 "nbformat": 4,
 "nbformat_minor": 4
}
